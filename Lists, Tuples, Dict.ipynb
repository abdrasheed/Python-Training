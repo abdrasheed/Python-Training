{
 "cells": [
  {
   "cell_type": "markdown",
   "id": "f8dda490",
   "metadata": {},
   "source": [
    "### Lists"
   ]
  },
  {
   "cell_type": "code",
   "execution_count": 13,
   "id": "6364c8f6",
   "metadata": {},
   "outputs": [],
   "source": [
    "mylist = ['one','two',3,4,True,False]"
   ]
  },
  {
   "cell_type": "code",
   "execution_count": 14,
   "id": "c7b70fda",
   "metadata": {},
   "outputs": [
    {
     "data": {
      "text/plain": [
       "['one', 3, True]"
      ]
     },
     "execution_count": 14,
     "metadata": {},
     "output_type": "execute_result"
    }
   ],
   "source": [
    "mylist[0:5:2] # mylist[start index:end index:step]"
   ]
  },
  {
   "cell_type": "code",
   "execution_count": 15,
   "id": "d8996e70",
   "metadata": {},
   "outputs": [
    {
     "data": {
      "text/plain": [
       "['Replaced', 4, True, False]"
      ]
     },
     "execution_count": 15,
     "metadata": {},
     "output_type": "execute_result"
    }
   ],
   "source": [
    "mylist[0:3] = [\"Replaced\"]\n",
    "mylist"
   ]
  },
  {
   "cell_type": "markdown",
   "id": "ad39e61b",
   "metadata": {},
   "source": [
    "List Methods"
   ]
  },
  {
   "cell_type": "code",
   "execution_count": 51,
   "id": "79f30c0d",
   "metadata": {},
   "outputs": [
    {
     "name": "stdout",
     "output_type": "stream",
     "text": [
      "Add (new) in list ['one', 'two', 3, 4, 'new']\n",
      "Add [4,5,6,7] in list ['one', 'two', 3, 4, 'new', 4, 5, 6, 7]\n",
      "Remove (7) from list ['one', 'two', 3, 4, 'new', 4, 5, 6]\n",
      "Arrange the items in descending order[89, 88, 9, 8, 7, 6, 5, 2, 1]\n",
      "Arrange the items in ascending order [1, 2, 5, 6, 7, 8, 9, 88, 89]\n",
      "Reverse list items [6, 5, 4, 'new', 4, 3, 'two', 'one']\n",
      "Copied list from list ['one', 'two', 3, 4, True, False, 'new', 'new']\n",
      "count of (new) is: 2\n",
      "the element (new) is at 6 index\n",
      "(0) element was added in 0 index [0, 'one', 'two', 3, 4, True, False, 'new', 'new']\n"
     ]
    }
   ],
   "source": [
    "mylist1 = ['one','two',3,4]\n",
    "mylist2 = [4,5,6,7]\n",
    "mynumberlist = [5,6,2,7,89,1,88,8,9]\n",
    "\n",
    "# append method will add new element to list\n",
    "mylist1.append('new')\n",
    "print(\"Add (new) in list {}\".format(mylist1))\n",
    "\n",
    "# extend method will concatination two lists\n",
    "mylist1.extend(mylist2)\n",
    "print(\"Add [4,5,6,7] in list {}\".format(mylist1))\n",
    "\n",
    "# remove will remove only one element from list\n",
    "mylist1.remove(7) \n",
    "print(\"Remove (7) from list {}\".format(mylist1))\n",
    "\n",
    "# sort will Arrange the items in list\n",
    "mynumberlist.sort(reverse=True)\n",
    "print(\"Arrange the items in descending order{}\".format(mynumberlist))\n",
    "mynumberlist.sort(reverse=False)\n",
    "print(\"Arrange the items in ascending order {}\".format(mynumberlist))\n",
    "\n",
    "# reverse will reverse the items\n",
    "mylist1.reverse()\n",
    "print(\"Reverse list items {}\".format(mylist1))\n",
    "\n",
    "# clear method will clear all elements\n",
    "# mylist1.clear()\n",
    "\n",
    "# copy method will take a copy from the list\n",
    "copied_list = mylist.copy()\n",
    "print(\"Copied list from list {}\".format(copied_list))\n",
    "\n",
    "# count will counting repeated times of element\n",
    "print(\"count of (new) is: {}\".format(mylist.count('new')))\n",
    "\n",
    "# index will access index of searched element\n",
    "print(\"the element (new) is at {} index\".format(mylist.index('new')))\n",
    "\n",
    "# insert method will insert element in choosed index\n",
    "mylist.insert(0,0)\n",
    "print(\"(0) element was added in 0 index {}\".format(mylist))"
   ]
  },
  {
   "cell_type": "markdown",
   "id": "b3939122",
   "metadata": {},
   "source": [
    "Tuple Methods\n",
    "1. tuple is not assigned\n",
    "2. tuple can not delete or add (Immutable)"
   ]
  },
  {
   "cell_type": "code",
   "execution_count": 52,
   "id": "fcfe8cd6",
   "metadata": {},
   "outputs": [
    {
     "name": "stdout",
     "output_type": "stream",
     "text": [
      "1 2\n"
     ]
    }
   ],
   "source": [
    "myt = (1,'d',2)\n",
    "a, _, b = myt\n",
    "print(a,b)"
   ]
  },
  {
   "cell_type": "markdown",
   "id": "1d2fb61d",
   "metadata": {},
   "source": [
    "Set\n",
    "1. Not ordered, indexing and Slicing\n",
    "2. Items is unique"
   ]
  },
  {
   "cell_type": "code",
   "execution_count": 61,
   "id": "ad53d78d",
   "metadata": {},
   "outputs": [
    {
     "name": "stdout",
     "output_type": "stream",
     "text": [
      "{1, 2, 3, 4, 5, 6}\n",
      "{1, 2, 3, 4, 5, 6}\n",
      "{1, 2, 3, 5, 8}\n",
      "{1, 2, 3, 4, 5, 6, 8}\n",
      "{8, 3}\n",
      "{1, 2, 4, 5, 6}\n"
     ]
    }
   ],
   "source": [
    "a = {1,2,3,5}\n",
    "b = {4,5,6,2,1}\n",
    "print(a | b)\n",
    "\n",
    "# union will concatination two sets\n",
    "print(a.union(b))\n",
    "\n",
    "# add will add new element to set\n",
    "a.add(8)\n",
    "print(a)\n",
    "\n",
    "# Update set elements\n",
    "a.update([1,6,4,2,5])\n",
    "print(a)\n",
    "\n",
    "# difference will return different elements\n",
    "print(a.difference(b))\n",
    "\n",
    "# intersection will return the same element\n",
    "print(a.intersection(b))"
   ]
  },
  {
   "cell_type": "code",
   "execution_count": null,
   "id": "2a5c817d",
   "metadata": {},
   "outputs": [],
   "source": []
  }
 ],
 "metadata": {
  "kernelspec": {
   "display_name": "Python 3 (ipykernel)",
   "language": "python",
   "name": "python3"
  },
  "language_info": {
   "codemirror_mode": {
    "name": "ipython",
    "version": 3
   },
   "file_extension": ".py",
   "mimetype": "text/x-python",
   "name": "python",
   "nbconvert_exporter": "python",
   "pygments_lexer": "ipython3",
   "version": "3.9.5"
  }
 },
 "nbformat": 4,
 "nbformat_minor": 5
}
