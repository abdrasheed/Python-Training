{
 "cells": [
  {
   "cell_type": "code",
   "execution_count": 1,
   "metadata": {},
   "outputs": [],
   "source": [
    "import re"
   ]
  },
  {
   "cell_type": "code",
   "execution_count": 2,
   "metadata": {},
   "outputs": [],
   "source": [
    "text = 'This is a good day'"
   ]
  },
  {
   "cell_type": "markdown",
   "metadata": {},
   "source": [
    "### Search Function"
   ]
  },
  {
   "cell_type": "code",
   "execution_count": 3,
   "metadata": {},
   "outputs": [
    {
     "name": "stdout",
     "output_type": "stream",
     "text": [
      "True\n"
     ]
    }
   ],
   "source": [
    "print(True) if re.search('good',text) else print(False)"
   ]
  },
  {
   "cell_type": "markdown",
   "metadata": {},
   "source": [
    "### Split"
   ]
  },
  {
   "cell_type": "code",
   "execution_count": 197,
   "metadata": {},
   "outputs": [],
   "source": [
    "text2 = 'Amy is a good-person.Amy,is a_good\\women.'"
   ]
  },
  {
   "cell_type": "code",
   "execution_count": 201,
   "metadata": {},
   "outputs": [
    {
     "data": {
      "text/plain": [
       "['Amy', 'is', 'a', 'good', 'person', 'Amy', 'is', 'a', 'good', 'women', '']"
      ]
     },
     "execution_count": 201,
     "metadata": {},
     "output_type": "execute_result"
    }
   ],
   "source": [
    "re.split(r'\\s|,|_|\\.|-|\\\\',text2) # | Or "
   ]
  },
  {
   "cell_type": "markdown",
   "metadata": {},
   "source": [
    "### Sub"
   ]
  },
  {
   "cell_type": "code",
   "execution_count": 202,
   "metadata": {},
   "outputs": [
    {
     "data": {
      "text/plain": [
       "'I => love => to => play => with => data'"
      ]
     },
     "execution_count": 202,
     "metadata": {},
     "output_type": "execute_result"
    }
   ],
   "source": [
    "text_sub = \"I love to play with data\"\n",
    "re.sub(r\"\\s\",' => ',text_sub) # Replace characters"
   ]
  },
  {
   "cell_type": "markdown",
   "metadata": {},
   "source": [
    "### Find All"
   ]
  },
  {
   "cell_type": "code",
   "execution_count": 6,
   "metadata": {},
   "outputs": [
    {
     "data": {
      "text/plain": [
       "['Amy', 'Amy']"
      ]
     },
     "execution_count": 6,
     "metadata": {},
     "output_type": "execute_result"
    }
   ],
   "source": [
    "re.findall('Amy',text2)"
   ]
  },
  {
   "cell_type": "code",
   "execution_count": 7,
   "metadata": {},
   "outputs": [
    {
     "data": {
      "text/plain": [
       "'Iran'"
      ]
     },
     "execution_count": 7,
     "metadata": {},
     "output_type": "execute_result"
    }
   ],
   "source": [
    "t = 'Iran23'\n",
    "d = re.findall('[A-z]+',t)\n",
    "\" \".join(str(x) for x in d)"
   ]
  },
  {
   "cell_type": "code",
   "execution_count": 8,
   "metadata": {},
   "outputs": [
    {
     "data": {
      "text/plain": [
       "<re.Match object; span=(9, 13), match='good'>"
      ]
     },
     "execution_count": 8,
     "metadata": {},
     "output_type": "execute_result"
    }
   ],
   "source": [
    "re.search('good',text2)"
   ]
  },
  {
   "cell_type": "markdown",
   "metadata": {},
   "source": [
    "### Patterns and Character Classes"
   ]
  },
  {
   "cell_type": "code",
   "execution_count": 107,
   "metadata": {},
   "outputs": [
    {
     "name": "stdout",
     "output_type": "stream",
     "text": [
      "['0', '1', '1', ' ', '5', '4', '2', '5', '-', '2', '2', '3', ' ', ' ', ' ', ' ', ' ', ' ', '1', '2', '3', '4', '5', '6', '7', '8', '9', ' ', '0', '1', '2', ' ', '5', '5', '3', '6', '-', '8', '8', '9', ' ', ' ', '#', '$', ' ', '%', '%', ' ', '@', ' ', ' ', '&', ' ', ' ', ' ']\n"
     ]
    }
   ],
   "source": [
    "text3 = \"011 5425-223 Hello My Name Is Abdelrahman 123456789 012 5536-889 Abdelrahman_Alarqan #$ %% @ ^ & aa bb dd\"\n",
    "re.findall('[a-z]',text3) # return all small chars\n",
    "re.findall('[A-Z]',text3) # return all capital chars\n",
    "re.findall('[a-zA-Z]',text3) # return all capital and small chars\n",
    "print(re.findall('[^a-zA-z]',text3)) # return all things with out Charaxters"
   ]
  },
  {
   "cell_type": "markdown",
   "metadata": {},
   "source": [
    "### Phone Numbers"
   ]
  },
  {
   "cell_type": "code",
   "execution_count": 106,
   "metadata": {},
   "outputs": [
    {
     "data": {
      "text/plain": [
       "['(734) 647-6333',\n",
       " '(734) 647-8044',\n",
       " '(734) 763-2285',\n",
       " '(734) 647-3576',\n",
       " '(734) 763-1251',\n",
       " '(734) 764-9376']"
      ]
     },
     "execution_count": 106,
     "metadata": {},
     "output_type": "execute_result"
    }
   ],
   "source": [
    "phone_numbers = \"\"\"\n",
    "Office of Research Administration: (734) 647-6333 | 4325 North Quad\n",
    "Office of Budget and Financial Administration: (734) 647-8044 | 309 Maynard, Suite 205\n",
    "Health Informatics Program: (734) 763-2285 | 333 Maynard, Suite 500\n",
    "Office of the Dean: (734) 647-3576 | 4322 North Quad\n",
    "UMSI Engagement Center: (734) 763-1251 | 777 North University\n",
    "Faculty Adminstrative Support Staff: (734) 764-9376 | 4322 North Quad\n",
    "\"\"\"\n",
    "re.findall('[(]\\d{3}[)]\\s\\d{3}[-]\\d{4}',phone_numbers)"
   ]
  },
  {
   "cell_type": "markdown",
   "metadata": {},
   "source": [
    "### Domain Extaraction"
   ]
  },
  {
   "cell_type": "code",
   "execution_count": 167,
   "metadata": {},
   "outputs": [
    {
     "data": {
      "text/plain": [
       "['google.com', 'www.baidu.com']"
      ]
     },
     "execution_count": 167,
     "metadata": {},
     "output_type": "execute_result"
    }
   ],
   "source": [
    "links = 'I refer to https://google.com and I never refer http://www.baidu.com if I have to search anything'\n",
    "re.findall('(?<=[https]:\\/\\/)([A-z0-9.]*)',links)"
   ]
  },
  {
   "cell_type": "code",
   "execution_count": 104,
   "metadata": {},
   "outputs": [
    {
     "name": "stdout",
     "output_type": "stream",
     "text": [
      "['bat', 'bot']\n"
     ]
    }
   ],
   "source": [
    "string = 'bat, lat, mat, bet, let, met, bit, lit, mit, bot, lot, mot'\n",
    "result = re.findall('b[ao]t', string)\n",
    "print(result)"
   ]
  },
  {
   "cell_type": "markdown",
   "metadata": {},
   "source": [
    "### Quantifiers"
   ]
  },
  {
   "cell_type": "code",
   "execution_count": 125,
   "metadata": {},
   "outputs": [
    {
     "data": {
      "text/plain": [
       "['Name:Abdelrahman Alarqan']"
      ]
     },
     "execution_count": 125,
     "metadata": {},
     "output_type": "execute_result"
    }
   ],
   "source": [
    "text = \"A ABC 123 1235-456 ABCDE ABCDA AB B C D E F G @# $ . #$$\"\n",
    "pattern = \"A\\w\\w\\w\" # [\\w] return 1 single char or number\n",
    "pattern = \"\\s\\sD\" # [\\s] return 1 single space\n",
    "pattern = \"\\w*\" # [\\*] return all char or numbers\n",
    "pattern = \"\\w+\" # [\\+] return all char or numbers\n",
    "pattern = \"\\w{3}\" # [\\+] return all char or numbers with 3 length\n",
    "pattern = \"\\w{2,5}\" # [\\+] return all char or numbers with range 2 and 5 length [2,3,4,5]\n",
    "pattern = \"\\w{3,}\" # [\\+] return all char or numbers with range 3 and all lengths [3=>]\n",
    "pattern = \"\\w{,4}\" # [\\+] return all char or numbers with length Up to 4\n",
    "pattern = \"\\d{3}\\s\\d{4}-\\d{3}\" # Phone Number\n",
    "pattern = \"\\w-?\\s?\" # [\\+] return all char or numbers with - or space\n",
    "text= \"Name:Abdelrahman Alarqan\"\n",
    "\n",
    "re.findall('[A-z]+[:][A-z]+\\s[A-z]+',text)"
   ]
  },
  {
   "cell_type": "markdown",
   "metadata": {},
   "source": [
    "### Assertions & Email Pattern"
   ]
  },
  {
   "cell_type": "code",
   "execution_count": 131,
   "metadata": {},
   "outputs": [
    {
     "data": {
      "text/plain": [
       "['Ahmed@gmail.com',\n",
       " 'khaled.sami@hotmail.com',\n",
       " 'john@john.com',\n",
       " 'john@john.info',\n",
       " 'ross_123@yahoo.com']"
      ]
     },
     "execution_count": 131,
     "metadata": {},
     "output_type": "execute_result"
    }
   ],
   "source": [
    "emails = '''\n",
    "Ahmed@gmail.com\n",
    "khaled.sami@hotmail.com\n",
    "john@john.com\n",
    "john@john.info\n",
    "@#$%@%^#$$\n",
    "ross_123@yahoo.com\n",
    "'''\n",
    "pattern = \"[A-z0-9\\.?]+@[A-z0-9]+\\.[com|info]+\" # will return emails with .com and .info\n",
    "re.findall(pattern,emails)"
   ]
  },
  {
   "cell_type": "markdown",
   "metadata": {},
   "source": [
    "### Logical Or & Escaping"
   ]
  },
  {
   "cell_type": "code",
   "execution_count": 163,
   "metadata": {},
   "outputs": [
    {
     "data": {
      "text/plain": [
       "[('123', '5466', '525'), ('123', '5858', '(566)')]"
      ]
     },
     "execution_count": 163,
     "metadata": {},
     "output_type": "execute_result"
    }
   ],
   "source": [
    "escaping = '''\n",
    "\n",
    "1- Pandas\n",
    "2- Python\n",
    "3- Numpy\n",
    "\n",
    "1) Pandas\n",
    "2) Python\n",
    "3) Numpy\n",
    "\n",
    "1> Pandas\n",
    "2> Python\n",
    "3> Numpy\n",
    "\n",
    "'''\n",
    "phone_numbers = '''\n",
    "123 5466 525\n",
    "123 5858 (566)\n",
    "'''\n",
    "pattern_list = \"(\\d-|\\d\\)|\\d>)(\\s\\w+)\" # Lists\n",
    "pattern_phone = \"(\\d{3}) (\\d{4}) (\\d{3}|\\(\\d{3}\\))\" # Phone num\n",
    "re.findall(pattern_phone,phone_numbers)"
   ]
  },
  {
   "cell_type": "markdown",
   "metadata": {},
   "source": [
    "### Links Extraction"
   ]
  },
  {
   "cell_type": "code",
   "execution_count": 182,
   "metadata": {},
   "outputs": [
    {
     "data": {
      "text/plain": [
       "['https://regex101.com',\n",
       " 'https://www.linkedin.com',\n",
       " 'https://www.fiverr.com',\n",
       " 'https://www.upwork.com',\n",
       " 'http://soundcloud.com']"
      ]
     },
     "execution_count": 182,
     "metadata": {},
     "output_type": "execute_result"
    }
   ],
   "source": [
    "links = '''\n",
    "https://regex101.com\n",
    "https://www.linkedin.com\n",
    "https://www.fiverr.com\n",
    "https://www.upwork.com\n",
    "http://soundcloud.com\n",
    "Abdelrahman alarqan\n",
    "Age 23\n",
    "I love data\n",
    "'''\n",
    "pattern_links = \"https?://[A-z0-9.]+\"\n",
    "re.findall(pattern_links,links)"
   ]
  },
  {
   "cell_type": "markdown",
   "metadata": {},
   "source": [
    "### Practice "
   ]
  },
  {
   "cell_type": "code",
   "execution_count": 211,
   "metadata": {},
   "outputs": [
    {
     "name": "stdout",
     "output_type": "stream",
     "text": [
      "Protocol : https\n",
      "Sub Domain : www\n",
      "Domain Name : elzero\n",
      "Top Level Domain : org\n",
      "Port : 8080\n",
      "Query String : 8080\n"
     ]
    }
   ],
   "source": [
    "text = \"https://www.elzero.org:8080/category.php?article=105?name=how-to-do\"\n",
    "\n",
    "search = re.search(r\"(https?)://(www)?\\.?(\\w+)\\.(\\w+):?(\\d+)?/?(.+)\",text)\n",
    "print(f\"Protocol : {search.group(1)}\")\n",
    "print(f\"Sub Domain : {search.group(2)}\")\n",
    "print(f\"Domain Name : {search.group(3)}\")\n",
    "print(f\"Top Level Domain : {search.group(4)}\")\n",
    "print(f\"Port : {search.group(5)}\")\n",
    "print(f\"Query String : {search.group(5)}\")"
   ]
  },
  {
   "cell_type": "code",
   "execution_count": null,
   "metadata": {},
   "outputs": [],
   "source": []
  }
 ],
 "metadata": {
  "kernelspec": {
   "display_name": "Python 3 (ipykernel)",
   "language": "python",
   "name": "python3"
  },
  "language_info": {
   "codemirror_mode": {
    "name": "ipython",
    "version": 3
   },
   "file_extension": ".py",
   "mimetype": "text/x-python",
   "name": "python",
   "nbconvert_exporter": "python",
   "pygments_lexer": "ipython3",
   "version": "3.9.7"
  }
 },
 "nbformat": 4,
 "nbformat_minor": 4
}
