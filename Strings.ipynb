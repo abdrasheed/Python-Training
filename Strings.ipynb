{
 "cells": [
  {
   "cell_type": "markdown",
   "metadata": {},
   "source": [
    "## Start Masraring Python with Elzero web school\n",
    "* link:\n",
    "https://www.youtube.com/watch?v=j0Wktr70Cgw&list=PLDoPjvoNmBAyE_gei5d18qkfIe-Z8mocs&index=12"
   ]
  },
  {
   "cell_type": "markdown",
   "metadata": {},
   "source": [
    "# VARIABLES"
   ]
  },
  {
   "cell_type": "code",
   "execution_count": null,
   "metadata": {},
   "outputs": [],
   "source": [
    "'''\n",
    "int = 10\n",
    "str = \"hello\"\n",
    "bool = true\n",
    "float = 10.5\n",
    "tuple = (1,2,3)\n",
    "list = [1,2,3]\n",
    "dict = {\"name\" : \"ahmed\" , \"age\" : 25}\n",
    "x,y,z = 1,2,3\n",
    "'''"
   ]
  },
  {
   "cell_type": "markdown",
   "metadata": {},
   "source": [
    "# ESCAPE CHARACTERS ESCAPE CHARACTERS"
   ]
  },
  {
   "cell_type": "code",
   "execution_count": null,
   "metadata": {},
   "outputs": [],
   "source": [
    "'''\n",
    "\\b => Back Space \\\\ print(\"ESCAPE\\bCHARACTERS\") => will remove E char.\n",
    "\\  => single line \\\\ print(\"ESCAPE \\\n",
    "                        CHARACTERS\") => will print to words in single line.\n",
    "\\\\ => Print slash \\\\ print(\"ESCAPE CHARACTERS\\\\\") will print one slash.\n",
    "\\n => New line \\\\ print(\"ESCAPE \\n CHARACTERS\") will move to new line.\n",
    "\\t => Tap \\\\ print(\"tap\\tCHARACTERS\") will take tap\n",
    "'''"
   ]
  },
  {
   "cell_type": "markdown",
   "metadata": {},
   "source": [
    "# STRINGS"
   ]
  },
  {
   "cell_type": "code",
   "execution_count": 3,
   "metadata": {},
   "outputs": [
    {
     "data": {
      "text/plain": [
       "'\\nfor big text \\n\"name\" \\'name\\'\\n'"
      ]
     },
     "execution_count": 3,
     "metadata": {},
     "output_type": "execute_result"
    }
   ],
   "source": [
    "text = '''\n",
    "for big text \n",
    "\"name\" 'name'\n",
    "'''\n",
    "text"
   ]
  },
  {
   "cell_type": "markdown",
   "metadata": {},
   "source": [
    "### Slicing"
   ]
  },
  {
   "cell_type": "code",
   "execution_count": 87,
   "metadata": {},
   "outputs": [
    {
     "name": "stdout",
     "output_type": "stream",
     "text": [
      "Start char : o\n",
      "End char : e\n"
     ]
    }
   ],
   "source": [
    "text = \"Course Python For Datascience\"\n",
    "print(\"Start char : \"+text[1]) #starting from start\n",
    "print(\"End char : \"+text[-1]) #starting from end"
   ]
  },
  {
   "cell_type": "code",
   "execution_count": 21,
   "metadata": {},
   "outputs": [
    {
     "name": "stdout",
     "output_type": "stream",
     "text": [
      "First 3 chars: cou\n",
      "Last 3 chars: hon\n",
      "from first to end: ourse python\n",
      "from end to first: course pytho\n",
      "Last 3 chars: orepto\n",
      "Last 3 chars: hon\n",
      "Last 3 chars: hon\n"
     ]
    }
   ],
   "source": [
    "#[start:end]\n",
    "#[start:end:steps]\n",
    "print(\"First 3 chars: \"+text[0:3])\n",
    "print(\"Last 3 chars: \"+text[-3:])\n",
    "print(\"from first to end: \"+text[1:])\n",
    "print(\"from end to first: \"+text[:-1])\n",
    "print(\"2 index working: \"+text[1::2])"
   ]
  },
  {
   "cell_type": "markdown",
   "metadata": {},
   "source": [
    "### Strip"
   ]
  },
  {
   "cell_type": "code",
   "execution_count": 22,
   "metadata": {},
   "outputs": [
    {
     "data": {
      "text/plain": [
       "'course python'"
      ]
     },
     "execution_count": 22,
     "metadata": {},
     "output_type": "execute_result"
    }
   ],
   "source": [
    "text.strip() #will remove spaces from left and right"
   ]
  },
  {
   "cell_type": "markdown",
   "metadata": {},
   "source": [
    "text.rstrip() #will remove spaces from right only"
   ]
  },
  {
   "cell_type": "code",
   "execution_count": 36,
   "metadata": {},
   "outputs": [
    {
     "data": {
      "text/plain": [
       "'course 5 python @@'"
      ]
     },
     "execution_count": 36,
     "metadata": {},
     "output_type": "execute_result"
    }
   ],
   "source": [
    "text.lstrip() #will remove spaces from left only"
   ]
  },
  {
   "cell_type": "code",
   "execution_count": 35,
   "metadata": {},
   "outputs": [
    {
     "data": {
      "text/plain": [
       "' course 5 python @@'"
      ]
     },
     "execution_count": 35,
     "metadata": {},
     "output_type": "execute_result"
    }
   ],
   "source": [
    "text += \"@@\"\n",
    "text"
   ]
  },
  {
   "cell_type": "code",
   "execution_count": 30,
   "metadata": {},
   "outputs": [
    {
     "data": {
      "text/plain": [
       "' course python '"
      ]
     },
     "execution_count": 30,
     "metadata": {},
     "output_type": "execute_result"
    }
   ],
   "source": [
    "text.strip(\"@\") #will remove any char"
   ]
  },
  {
   "cell_type": "markdown",
   "metadata": {},
   "source": [
    "### title"
   ]
  },
  {
   "cell_type": "code",
   "execution_count": 39,
   "metadata": {},
   "outputs": [
    {
     "data": {
      "text/plain": [
       "' Course 5 Python '"
      ]
     },
     "execution_count": 39,
     "metadata": {},
     "output_type": "execute_result"
    }
   ],
   "source": [
    "text.strip(\"@\").title() # will capitalize first char from words in text."
   ]
  },
  {
   "cell_type": "markdown",
   "metadata": {},
   "source": [
    "### Zero Fill"
   ]
  },
  {
   "cell_type": "code",
   "execution_count": 44,
   "metadata": {},
   "outputs": [
    {
     "name": "stdout",
     "output_type": "stream",
     "text": [
      "001\n",
      "011\n",
      "111\n"
     ]
    }
   ],
   "source": [
    "# will add needed zero to be complete. \n",
    "x,y,z = \"1\",\"11\",\"111\"\n",
    "print(x.zfill(3))\n",
    "print(y.zfill(3))\n",
    "print(z.zfill(3))"
   ]
  },
  {
   "cell_type": "markdown",
   "metadata": {},
   "source": [
    "### Upper & Lower"
   ]
  },
  {
   "cell_type": "code",
   "execution_count": 45,
   "metadata": {},
   "outputs": [
    {
     "data": {
      "text/plain": [
       "' COURSE 5 PYTHON @@'"
      ]
     },
     "execution_count": 45,
     "metadata": {},
     "output_type": "execute_result"
    }
   ],
   "source": [
    "text.upper()"
   ]
  },
  {
   "cell_type": "code",
   "execution_count": 46,
   "metadata": {},
   "outputs": [
    {
     "data": {
      "text/plain": [
       "' course 5 python @@'"
      ]
     },
     "execution_count": 46,
     "metadata": {},
     "output_type": "execute_result"
    }
   ],
   "source": [
    "text.lower()"
   ]
  },
  {
   "cell_type": "markdown",
   "metadata": {},
   "source": [
    "### Split and Splitlines"
   ]
  },
  {
   "cell_type": "code",
   "execution_count": 4,
   "metadata": {},
   "outputs": [
    {
     "data": {
      "text/plain": [
       "['course', '5', 'python']"
      ]
     },
     "execution_count": 4,
     "metadata": {},
     "output_type": "execute_result"
    }
   ],
   "source": [
    "text.split() # it will split the text and convert it to list"
   ]
  },
  {
   "cell_type": "code",
   "execution_count": 58,
   "metadata": {},
   "outputs": [
    {
     "data": {
      "text/plain": [
       "['python is cool', 'data is future']"
      ]
     },
     "execution_count": 58,
     "metadata": {},
     "output_type": "execute_result"
    }
   ],
   "source": [
    "par = '''python is cool\n",
    "data is future\n",
    "'''\n",
    "par.splitlines() # will return lines in list"
   ]
  },
  {
   "cell_type": "code",
   "execution_count": 16,
   "metadata": {},
   "outputs": [
    {
     "data": {
      "text/plain": [
       "['Course', 'Python', 'For Data Science']"
      ]
     },
     "execution_count": 16,
     "metadata": {},
     "output_type": "execute_result"
    }
   ],
   "source": [
    "text.split(\" \",2) # number 2, will take first two words from left only."
   ]
  },
  {
   "cell_type": "code",
   "execution_count": 17,
   "metadata": {},
   "outputs": [
    {
     "data": {
      "text/plain": [
       "['Course Python For', 'Data', 'Science']"
      ]
     },
     "execution_count": 17,
     "metadata": {},
     "output_type": "execute_result"
    }
   ],
   "source": [
    "text.rsplit(\" \",2) # number 2, will take first two words from right only."
   ]
  },
  {
   "cell_type": "markdown",
   "metadata": {},
   "source": [
    "### Center, Rjust and Ljust"
   ]
  },
  {
   "cell_type": "code",
   "execution_count": 33,
   "metadata": {},
   "outputs": [
    {
     "data": {
      "text/plain": [
       "'|||||||||||||||||||||||||||||||||||Course Python For Data Science|||||||||||||||||||||||||||||||||||'"
      ]
     },
     "execution_count": 33,
     "metadata": {},
     "output_type": "execute_result"
    }
   ],
   "source": [
    "text.center(100, \"|\") # will add cahracters in left and right of words. and the 100 is length of words"
   ]
  },
  {
   "cell_type": "code",
   "execution_count": 54,
   "metadata": {},
   "outputs": [
    {
     "name": "stdout",
     "output_type": "stream",
     "text": [
      "||||||||||||||||||||Course Python For Data Science\n",
      "Course Python For Data Science||||||||||||||||||||\n"
     ]
    }
   ],
   "source": [
    "print(text.rjust(50,\"|\")) # add spaces in left\n",
    "print(text.ljust(50,\"|\")) # add spaces in right"
   ]
  },
  {
   "cell_type": "markdown",
   "metadata": {},
   "source": [
    "### Count"
   ]
  },
  {
   "cell_type": "code",
   "execution_count": 39,
   "metadata": {},
   "outputs": [
    {
     "data": {
      "text/plain": [
       "1"
      ]
     },
     "execution_count": 39,
     "metadata": {},
     "output_type": "execute_result"
    }
   ],
   "source": [
    "text.count(\"a\") #will return number of ineces in all text\n",
    "text.count(\"a\",5,20) #will return number of ineces between index 5 to 20. "
   ]
  },
  {
   "cell_type": "markdown",
   "metadata": {},
   "source": [
    "### Swapcase"
   ]
  },
  {
   "cell_type": "code",
   "execution_count": 41,
   "metadata": {},
   "outputs": [
    {
     "data": {
      "text/plain": [
       "'cOURSE pYTHON fOR dATA sCIENCE'"
      ]
     },
     "execution_count": 41,
     "metadata": {},
     "output_type": "execute_result"
    }
   ],
   "source": [
    "text.swapcase() # will convert the text from upper to lower and lower to upper"
   ]
  },
  {
   "cell_type": "markdown",
   "metadata": {},
   "source": [
    "### Startswith and Endswith"
   ]
  },
  {
   "cell_type": "code",
   "execution_count": 44,
   "metadata": {},
   "outputs": [
    {
     "data": {
      "text/plain": [
       "False"
      ]
     },
     "execution_count": 44,
     "metadata": {},
     "output_type": "execute_result"
    }
   ],
   "source": [
    "text.startswith(\"C\") #will check the text if have the char from first of text and return bool.\n",
    "text.startswith(\"C\",10,20) # case sensitive"
   ]
  },
  {
   "cell_type": "code",
   "execution_count": 45,
   "metadata": {},
   "outputs": [
    {
     "data": {
      "text/plain": [
       "False"
      ]
     },
     "execution_count": 45,
     "metadata": {},
     "output_type": "execute_result"
    }
   ],
   "source": [
    "text.endswith(\"e\") #will check the text if have the char from last of text and return bool.\n",
    "text.endswith(\"e\",10,20) # case sensitive"
   ]
  },
  {
   "cell_type": "markdown",
   "metadata": {},
   "source": [
    "### Find and index"
   ]
  },
  {
   "cell_type": "code",
   "execution_count": 50,
   "metadata": {},
   "outputs": [
    {
     "data": {
      "text/plain": [
       "-1"
      ]
     },
     "execution_count": 50,
     "metadata": {},
     "output_type": "execute_result"
    }
   ],
   "source": [
    "text.find(\"s\",5,10) #will retutn -1 if the thext have not the input."
   ]
  },
  {
   "cell_type": "code",
   "execution_count": 51,
   "metadata": {},
   "outputs": [
    {
     "data": {
      "text/plain": [
       "4"
      ]
     },
     "execution_count": 51,
     "metadata": {},
     "output_type": "execute_result"
    }
   ],
   "source": [
    "text.index(\"s\",3,10) #will retutn valueError if the thext have not the input."
   ]
  },
  {
   "cell_type": "markdown",
   "metadata": {},
   "source": [
    "### Expand Tap"
   ]
  },
  {
   "cell_type": "code",
   "execution_count": 68,
   "metadata": {},
   "outputs": [
    {
     "name": "stdout",
     "output_type": "stream",
     "text": [
      "python \t java \t js\n",
      "python  java  js\n"
     ]
    }
   ],
   "source": [
    "tabs = \"python \\t java \\t js\"\n",
    "print(tabs)\n",
    "print(tabs.expandtabs(-2))"
   ]
  },
  {
   "cell_type": "markdown",
   "metadata": {},
   "source": [
    "### IS [ title, alpha, lower, upper, spase, isnumeric, isidentifier, isalnum ]"
   ]
  },
  {
   "cell_type": "code",
   "execution_count": 85,
   "metadata": {},
   "outputs": [
    {
     "name": "stdout",
     "output_type": "stream",
     "text": [
      "False\n",
      "True\n",
      "False\n",
      "False\n",
      "False\n",
      "False\n",
      "True\n",
      "True\n"
     ]
    }
   ],
   "source": [
    "print(text.istitle()) # it will check if all first char is uppercase\n",
    "print(text.isalpha()) # it will check if the text are alpha or not\n",
    "print(text.isspace()) # it will check if the text is spaces or not\n",
    "print(text.isnumeric()) # it will check if the text are numbers or not\n",
    "print(text.islower()) # it will check if the text are upper\n",
    "print(text.isupper()) # it will check if the text are lower\n",
    "print(text.isidentifier()) # it will check if the text are variable name.\n",
    "print(text.isalnum()) # it will check if the text are contain chars or not."
   ]
  },
  {
   "cell_type": "markdown",
   "metadata": {},
   "source": [
    "### Replace and join"
   ]
  },
  {
   "cell_type": "code",
   "execution_count": 88,
   "metadata": {},
   "outputs": [
    {
     "data": {
      "text/plain": [
       "'Course Python 4 Datascience'"
      ]
     },
     "execution_count": 88,
     "metadata": {},
     "output_type": "execute_result"
    }
   ],
   "source": [
    "text.replace(\"For\",\"4\") # will replace the word "
   ]
  },
  {
   "cell_type": "code",
   "execution_count": 90,
   "metadata": {},
   "outputs": [
    {
     "name": "stdout",
     "output_type": "stream",
     "text": [
      "ahmed - waleed - Khaled\n",
      "ahmed, waleed, Khaled\n",
      "ahmed | waleed | Khaled\n"
     ]
    }
   ],
   "source": [
    "list1 = [\"ahmed\",\"waleed\",\"Khaled\"]\n",
    "print(\" - \".join(list1))\n",
    "print(\", \".join(list1))\n",
    "print(\" | \".join(list1))"
   ]
  },
  {
   "cell_type": "markdown",
   "metadata": {},
   "source": [
    "## Formatting"
   ]
  },
  {
   "cell_type": "code",
   "execution_count": 2,
   "metadata": {},
   "outputs": [
    {
     "name": "stdout",
     "output_type": "stream",
     "text": [
      "My Name is ahmed and 15 years old and my rank is 10.55\n"
     ]
    }
   ],
   "source": [
    "# Old way\n",
    "name = 'ahmed'\n",
    "age = 15\n",
    "rank = 10.55255465\n",
    "text_welcome = 'My Name is %s and %d years old and my rank is %.2f' %(name,age,rank)\n",
    "print(text_welcome)\n",
    "# %s for string\n",
    "# %d for digits\n",
    "# %f for float number"
   ]
  },
  {
   "cell_type": "code",
   "execution_count": 9,
   "metadata": {},
   "outputs": [
    {
     "name": "stdout",
     "output_type": "stream",
     "text": [
      "My Name is ahmed and 15 years old and my rank is 10.553\n"
     ]
    }
   ],
   "source": [
    "# New way\n",
    "name = 'ahmed'\n",
    "age = 15\n",
    "rank = 10.55255465\n",
    "text_welcomee = 'My Name is {} and {} years old and my rank is {:.3f}'.format(name,age,rank)\n",
    "print(text_welcomee)\n",
    "# {:s} for string\n",
    "# {:d} for digits\n",
    "# {:f} for float number"
   ]
  },
  {
   "cell_type": "code",
   "execution_count": null,
   "metadata": {},
   "outputs": [],
   "source": []
  },
  {
   "cell_type": "code",
   "execution_count": null,
   "metadata": {},
   "outputs": [],
   "source": []
  },
  {
   "cell_type": "code",
   "execution_count": null,
   "metadata": {},
   "outputs": [],
   "source": []
  }
 ],
 "metadata": {
  "kernelspec": {
   "display_name": "Python 3 (ipykernel)",
   "language": "python",
   "name": "python3"
  },
  "language_info": {
   "codemirror_mode": {
    "name": "ipython",
    "version": 3
   },
   "file_extension": ".py",
   "mimetype": "text/x-python",
   "name": "python",
   "nbconvert_exporter": "python",
   "pygments_lexer": "ipython3",
   "version": "3.9.5"
  }
 },
 "nbformat": 4,
 "nbformat_minor": 4
}
