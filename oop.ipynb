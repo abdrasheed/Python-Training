{
 "cells": [
  {
   "cell_type": "markdown",
   "metadata": {},
   "source": [
    "# OOP python"
   ]
  },
  {
   "cell_type": "markdown",
   "metadata": {},
   "source": [
    "## Create new class"
   ]
  },
  {
   "cell_type": "code",
   "execution_count": 2,
   "metadata": {},
   "outputs": [
    {
     "data": {
      "text/plain": [
       "'ahmed'"
      ]
     },
     "execution_count": 2,
     "metadata": {},
     "output_type": "execute_result"
    }
   ],
   "source": [
    "class student: # open new class\n",
    "    def __init__(self,first_name): # init function will be run outamiticly when use class \n",
    "        self.fname = first_name # self is the student\n",
    "student1 = student(\"ahmed\") # creat new object form class\n",
    "student1.fname # call attribute of object"
   ]
  },
  {
   "cell_type": "markdown",
   "metadata": {},
   "source": [
    "## Class Attributes"
   ]
  },
  {
   "cell_type": "code",
   "execution_count": 15,
   "metadata": {},
   "outputs": [
    {
     "name": "stdout",
     "output_type": "stream",
     "text": [
      "Hello MR :\n",
      "Name : waleed \n",
      "Age  : 28 \n",
      "GPA  : 89\n",
      "\n",
      "6\n"
     ]
    }
   ],
   "source": [
    "class student:\n",
    "    not_allow_names = [\"ramii\",\"shahed\"] \n",
    "    student_numbers = 0\n",
    "    # Magic methods [ __init__ , __str__ , __len__ ]\n",
    "    # 1) Init method, it will be run outamiticly when use class with no return value\n",
    "    def __init__(self,name, age, gpa, gender):  \n",
    "        self.name = name \n",
    "        self.age = age \n",
    "        self.gpa = gpa \n",
    "        self.gender = gender\n",
    "        student.student_numbers +=1\n",
    "    \n",
    "    # 2) str method, it will be run outamiticly when use class and using to return value\n",
    "    def __str__(self):\n",
    "        if self.name in student.not_allow_names:\n",
    "            return ValueError(\"Not Allow\")\n",
    "        else:\n",
    "            if self.gender == \"male\":\n",
    "                return f\"Hello MR :\\nName : {self.name} \\nAge  : {self.age} \\nGPA  : {self.gpa}\\n\"\n",
    "            else:\n",
    "                return f\"Hello MRS :\\nName : {self.name} \\nAge  : {self.age} \\nGPA  : {self.gpa}\\n\"\n",
    "    # 3) len method, it will be run outamiticly when use class and using to return value\n",
    "    def __len__(self):\n",
    "        return len(self.name)\n",
    "    \n",
    "    # Instance method  \n",
    "    def get_info(self): # create new function with my requerment.\n",
    "        if self.name in student.not_allow_names:\n",
    "            return ValueError(\"Not Allow\")\n",
    "        else:\n",
    "            if self.gender == \"male\":\n",
    "                return f\"Hello MR :\\nName : {self.name} \\nAge  : {self.age} \\nGPA  : {self.gpa}\\n\"\n",
    "            else:\n",
    "                return f\"Hello MRS :\\nName : {self.name} \\nAge  : {self.age} \\nGPA  : {self.gpa}\\n\"\n",
    "            \n",
    "    # Class method\n",
    "    @classmethod # Call class method with cls argument \n",
    "    def show_student_count(cls): # use for class method not instance and cls like self\n",
    "        return f\"Number of students is : {cls.student_numbers}\"\n",
    "    \n",
    "    # Static method\n",
    "    @staticmethod # Call static method with no argument \n",
    "    def say_hello():\n",
    "        return f\"Hello to static method\"\n",
    "    \n",
    "    \n",
    "            \n",
    "student1 = student(\"rami\",20,85,\"male\") \n",
    "student2 = student(\"shahd\",21,88,\"female\") \n",
    "student3 = student(\"sami\",30,90,\"male\") \n",
    "student4 = student(\"waleed\",28,89,\"male\") \n",
    "# print(student1.get_info()) # call attribute of object\n",
    "# print(student2.get_info())\n",
    "print(student4) \n",
    "print(len(student4)) \n",
    "# print(student.say_hello())\n",
    "# print(student.show_student_count())"
   ]
  },
  {
   "cell_type": "markdown",
   "metadata": {},
   "source": [
    "## Inheritance"
   ]
  },
  {
   "cell_type": "code",
   "execution_count": 66,
   "metadata": {},
   "outputs": [
    {
     "name": "stdout",
     "output_type": "stream",
     "text": [
      "Hello ahmed from main class\n",
      "and your age 32 and ide : 120125155\n",
      "Hello waleed from main class\n",
      "and your age 14 and ide : 120192525\n"
     ]
    }
   ],
   "source": [
    "class user_uni:\n",
    "    def __init__(self,name,age,ide):\n",
    "        self.name = name\n",
    "        self.ide = ide\n",
    "        self.age = age\n",
    "\n",
    "# Add name of class we want to inheritance from it.\n",
    "class student(user_uni): \n",
    "    def __init__(self, name, age,ide):\n",
    "        a # To add self valeus from parent class\n",
    "    def __str__(self):\n",
    "        return f\"Hello {self.name} from main class\\nand your age {self.age} and ide : {self.ide}\"\n",
    "    def repo(self):\n",
    "        return f\"Hello Student : {self.name}\"\n",
    "        \n",
    "        \n",
    "# Add name of class we want to inheritance from it.        \n",
    "class teacher(user_uni): \n",
    "    def __init__(self, name,age,ide):\n",
    "        user_uni.__init__(self,name,age,ide) # To add self valeus from parent class\n",
    "    def __str__(self):\n",
    "        return f\"Hello {self.name} from main class\\nand your age {self.age} and ide : {self.ide}\"\n",
    "    def repo(self):\n",
    "        return f\"Hello Teacher : {self.name}\"\n",
    "        \n",
    "        \n",
    "        \n",
    "print(teacher(\"ahmed\",32,120125155))\n",
    "print(student(\"waleed\",14,120192525))"
   ]
  },
  {
   "cell_type": "markdown",
   "metadata": {},
   "source": [
    "## Polymorphism"
   ]
  },
  {
   "cell_type": "code",
   "execution_count": 3,
   "metadata": {},
   "outputs": [
    {
     "name": "stdout",
     "output_type": "stream",
     "text": [
      "Class A\n"
     ]
    },
    {
     "ename": "NotImplementedError",
     "evalue": "Derived Class Must Emplement This Method",
     "output_type": "error",
     "traceback": [
      "\u001b[1;31m---------------------------------------------------------------------------\u001b[0m",
      "\u001b[1;31mNotImplementedError\u001b[0m                       Traceback (most recent call last)",
      "\u001b[1;32m<ipython-input-3-c367cca666d5>\u001b[0m in \u001b[0;36m<module>\u001b[1;34m\u001b[0m\n\u001b[0;32m     10\u001b[0m     \u001b[1;32mdef\u001b[0m \u001b[0mdo_somthings\u001b[0m\u001b[1;33m(\u001b[0m\u001b[1;33m)\u001b[0m\u001b[1;33m:\u001b[0m\u001b[1;33m\u001b[0m\u001b[1;33m\u001b[0m\u001b[0m\n\u001b[0;32m     11\u001b[0m         \u001b[0mprint\u001b[0m\u001b[1;33m(\u001b[0m\u001b[1;34m'Class C'\u001b[0m\u001b[1;33m)\u001b[0m\u001b[1;33m\u001b[0m\u001b[1;33m\u001b[0m\u001b[0m\n\u001b[1;32m---> 12\u001b[1;33m \u001b[0mC\u001b[0m\u001b[1;33m.\u001b[0m\u001b[0mdo_somthing\u001b[0m\u001b[1;33m(\u001b[0m\u001b[1;33m)\u001b[0m\u001b[1;33m\u001b[0m\u001b[1;33m\u001b[0m\u001b[0m\n\u001b[0m",
      "\u001b[1;32m<ipython-input-3-c367cca666d5>\u001b[0m in \u001b[0;36mdo_somthing\u001b[1;34m()\u001b[0m\n\u001b[0;32m      3\u001b[0m         \u001b[0mprint\u001b[0m\u001b[1;33m(\u001b[0m\u001b[1;34m'Class A'\u001b[0m\u001b[1;33m)\u001b[0m\u001b[1;33m\u001b[0m\u001b[1;33m\u001b[0m\u001b[0m\n\u001b[0;32m      4\u001b[0m         \u001b[1;31m# This function use for defferent jobs.\u001b[0m\u001b[1;33m\u001b[0m\u001b[1;33m\u001b[0m\u001b[1;33m\u001b[0m\u001b[0m\n\u001b[1;32m----> 5\u001b[1;33m         \u001b[1;32mraise\u001b[0m \u001b[0mNotImplementedError\u001b[0m\u001b[1;33m(\u001b[0m\u001b[1;34m\"Derived Class Must Emplement This Method\"\u001b[0m\u001b[1;33m)\u001b[0m\u001b[1;33m\u001b[0m\u001b[1;33m\u001b[0m\u001b[0m\n\u001b[0m\u001b[0;32m      6\u001b[0m \u001b[1;32mclass\u001b[0m \u001b[0mB\u001b[0m\u001b[1;33m(\u001b[0m\u001b[0mA\u001b[0m\u001b[1;33m)\u001b[0m\u001b[1;33m:\u001b[0m\u001b[1;33m\u001b[0m\u001b[1;33m\u001b[0m\u001b[0m\n\u001b[0;32m      7\u001b[0m     \u001b[1;32mdef\u001b[0m \u001b[0mdo_somthing\u001b[0m\u001b[1;33m(\u001b[0m\u001b[1;33m)\u001b[0m\u001b[1;33m:\u001b[0m\u001b[1;33m\u001b[0m\u001b[1;33m\u001b[0m\u001b[0m\n",
      "\u001b[1;31mNotImplementedError\u001b[0m: Derived Class Must Emplement This Method"
     ]
    }
   ],
   "source": [
    "class A:\n",
    "    def do_somthing():\n",
    "        print('Class A')\n",
    "        # This function use for defferent jobs.\n",
    "        raise NotImplementedError(\"Derived Class Must Emplement This Method\")\n",
    "class B(A):\n",
    "    def do_somthing():\n",
    "        print('Class B')\n",
    "class C(A):\n",
    "    def do_somthings():\n",
    "        print('Class C')\n",
    "C.do_somthing()"
   ]
  },
  {
   "cell_type": "markdown",
   "metadata": {},
   "source": [
    "## Encapsulation"
   ]
  },
  {
   "cell_type": "code",
   "execution_count": 21,
   "metadata": {},
   "outputs": [
    {
     "name": "stdout",
     "output_type": "stream",
     "text": [
      "25\n",
      "120181135\n",
      "Hello ahmed\n",
      "ahmed\n"
     ]
    }
   ],
   "source": [
    "class person:\n",
    "    def __init__(self,name,ide,age):\n",
    "        self.__name = name # Private variabla and using only on class [Encapsulated variable].\n",
    "        self._ide = ide # Protected variabla and using on class and out [only to know].\n",
    "        self.age = age # Public variabla and using on class and out.\n",
    "    def hello(self):\n",
    "        return f\"Hello {self.__name}\"\n",
    "person1 = person(\"ahmed\",120181135,25)\n",
    "print(person1.age) # Return age because it is Public\n",
    "print(person1._ide) # Return _ide because it is only Protected\n",
    "#print(person1.__name) # Return ERROR because it is Private \n",
    "print(person1.hello()) # Return value of function\n",
    "print(person1._person__name) # Access to private variable\n"
   ]
  },
  {
   "cell_type": "markdown",
   "metadata": {},
   "source": [
    "## Getters And Setters"
   ]
  },
  {
   "cell_type": "code",
   "execution_count": 2,
   "metadata": {},
   "outputs": [
    {
     "name": "stdout",
     "output_type": "stream",
     "text": [
      "ahmed\n",
      "khaled\n"
     ]
    }
   ],
   "source": [
    "class person:\n",
    "    def __init__(self,name):\n",
    "        self.name = name\n",
    "    def get_name(self): # Getter\n",
    "        return self.name\n",
    "    def set_name(self,new_name): # Setter\n",
    "        self.name = new_name\n",
    "one = person('ahmed')\n",
    "print(one.get_name())\n",
    "one.set_name('khaled')\n",
    "print(one.get_name())"
   ]
  },
  {
   "cell_type": "markdown",
   "metadata": {},
   "source": [
    "## @Property Decorator\n",
    "* Convert function to Property"
   ]
  },
  {
   "cell_type": "code",
   "execution_count": 1,
   "metadata": {},
   "outputs": [
    {
     "name": "stdout",
     "output_type": "stream",
     "text": [
      "ahmed\n"
     ]
    }
   ],
   "source": [
    "class person:\n",
    "    def __init__(self,name):\n",
    "        self.name = name\n",
    "        \n",
    "    @property  # convert function to Property\n",
    "    def get_name(self): \n",
    "        return self.name\n",
    "    def set_name(self,new_name): \n",
    "        self.name = new_name\n",
    "one = person('ahmed')\n",
    "print(one.get_name) "
   ]
  },
  {
   "cell_type": "markdown",
   "metadata": {},
   "source": [
    "## ABCs Abstract Base Class"
   ]
  },
  {
   "cell_type": "code",
   "execution_count": 21,
   "metadata": {},
   "outputs": [
    {
     "name": "stdout",
     "output_type": "stream",
     "text": [
      "YES\n"
     ]
    }
   ],
   "source": [
    "from abc import ABCMeta, abstractmethod # Import abstract method\n",
    "class programming(metaclass=ABCMeta):\n",
    "    \n",
    "    @abstractmethod # Abstract method and we can not use it in parent class but we can use it in child class\n",
    "    def has_oop(self): # We should add this function in all children classes\n",
    "        pass\n",
    "    \n",
    "class python(programming):\n",
    "    def has_oop(self):\n",
    "        return 'YES'\n",
    "\n",
    "# print(programming().has_oop())\n",
    "print(python().has_oop())"
   ]
  },
  {
   "cell_type": "code",
   "execution_count": null,
   "metadata": {},
   "outputs": [],
   "source": []
  }
 ],
 "metadata": {
  "kernelspec": {
   "display_name": "Python 3",
   "language": "python",
   "name": "python3"
  },
  "language_info": {
   "codemirror_mode": {
    "name": "ipython",
    "version": 3
   },
   "file_extension": ".py",
   "mimetype": "text/x-python",
   "name": "python",
   "nbconvert_exporter": "python",
   "pygments_lexer": "ipython3",
   "version": "3.8.3"
  }
 },
 "nbformat": 4,
 "nbformat_minor": 4
}
